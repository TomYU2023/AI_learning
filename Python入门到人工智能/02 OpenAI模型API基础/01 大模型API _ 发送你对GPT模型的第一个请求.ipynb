{
 "cells": [
  {
   "cell_type": "code",
   "execution_count": 1,
   "id": "5a0bed58-1464-4065-b4be-812f2478fb31",
   "metadata": {},
   "outputs": [],
   "source": [
    "#!pip install openai"
   ]
  },
  {
   "cell_type": "code",
   "execution_count": 1,
   "id": "7fb0c3b9-e6c0-41f7-b8e9-c5ee319d148f",
   "metadata": {},
   "outputs": [],
   "source": [
    "from openai import OpenAI"
   ]
  },
  {
   "cell_type": "code",
   "execution_count": 14,
   "id": "02860a3d-20a5-4538-911a-aefaeae3b8e5",
   "metadata": {
    "scrolled": true
   },
   "outputs": [],
   "source": [
    "client = OpenAI(api_key=\"sk-OqCMWVg2StTGbOBm40799e6f554b436c83Be38258c3c8cB5\",base_url=\"https://api.aigc369.com/v1\")"
   ]
  },
  {
   "cell_type": "code",
   "execution_count": 15,
   "id": "d1617732-69c0-424e-8c6a-5421c14ec480",
   "metadata": {},
   "outputs": [],
   "source": [
    "# 请注意，如果你使用的是课程提供的 API 密钥，上面单元格代码初始化 OpenAI 类实例时还需要把 base_url 参数赋值为相应地址：\n",
    "# client = OpenAI(api_key=【你的密钥】,\n",
    "#                 base_url=\"https://api.aigc369.com/v1\")\n"
   ]
  },
  {
   "cell_type": "code",
   "execution_count": 20,
   "id": "a4386cb2-74d1-47b3-a1be-1e3033e799d8",
   "metadata": {},
   "outputs": [
    {
     "data": {
      "text/plain": [
       "ChatCompletion(id='chatcmpl-9FuYarmkOoPkpFOBl9Hlxe6RIyove', choices=[Choice(finish_reason='stop', index=0, logprobs=None, message=ChatCompletionMessage(content='四大文明古国分别是古埃及、古巴比伦、古印度和古中国。这四个国家是世界历史上最具影响力的文明古国之一，它们在政治、经济、文化、科技等领域都取得了显著的成就。', role='assistant', function_call=None, tool_calls=None))], created=1713579352, model='gpt-3.5-turbo-0125', object='chat.completion', system_fingerprint='fp_c2295e73ad', usage=CompletionUsage(completion_tokens=96, prompt_tokens=20, total_tokens=116))"
      ]
     },
     "execution_count": 20,
     "metadata": {},
     "output_type": "execute_result"
    }
   ],
   "source": [
    "response = client.chat.completions.create(\n",
    "  model=\"gpt-3.5-turbo\",\n",
    "  messages=[\n",
    "    {\"role\": \"user\", \"content\": \"四大文明古国分别有哪些\"}\n",
    "  ]\n",
    ")\n",
    "response"
   ]
  },
  {
   "cell_type": "code",
   "execution_count": 21,
   "id": "63820383-70e2-4831-9645-ced71c2dc6e6",
   "metadata": {},
   "outputs": [
    {
     "data": {
      "text/plain": [
       "ChatCompletion(id='chatcmpl-9FuYdi4wEKglPboAJtfKSL5BNIKKL', choices=[Choice(finish_reason='stop', index=0, logprobs=None, message=ChatCompletionMessage(content='四大文明古国通常指古代四大文明古国，包括：\\n\\n1. 埃及文明：位于尼罗河流域，以其壮丽的金字塔、法老统治和丰富的文化遗产而闻名。\\n2. 美索不达米亚文明：位于幼发拉底河和底格里斯河流域，是世界上最古老的文明之一，发明了许多重要的技术和概念。\\n3. 印度河文明：位于印度河和恒河流域，是古代印度最早的文明之一，拥有精湛的城市规划和印度教的发源地。\\n4. 中国文明：位于黄河和长江流域，是世界上最古老和连续发展时间最长的文明之一，拥有悠久的历史、丰富的文化和伟大的科技成就。', role='assistant', function_call=None, tool_calls=None))], created=1713579355, model='gpt-3.5-turbo-0125', object='chat.completion', system_fingerprint='fp_c2295e73ad', usage=CompletionUsage(completion_tokens=288, prompt_tokens=81, total_tokens=369))"
      ]
     },
     "execution_count": 21,
     "metadata": {},
     "output_type": "execute_result"
    }
   ],
   "source": [
    "response = client.chat.completions.create(\n",
    "  model=\"gpt-3.5-turbo\",\n",
    "  messages=[\n",
    "    {\"role\": \"system\", \"content\": \"你是一个乐于助人、语气友善的AI聊天助手\"},\n",
    "    {\"role\": \"user\", \"content\": \"你是谁\"},\n",
    "    {\"role\": \"assistant\", \"content\": \"我是ChatGPT，由OpenAI开发的一款大型语言模型。\"},\n",
    "    {\"role\": \"user\", \"content\": \"四大文明古国分别有哪些\"}\n",
    "  ]\n",
    ")\n",
    "response"
   ]
  },
  {
   "cell_type": "code",
   "execution_count": 22,
   "id": "d8bd73f0-7d7a-42ac-a28d-cc0867daf5d8",
   "metadata": {
    "scrolled": true
   },
   "outputs": [
    {
     "name": "stdout",
     "output_type": "stream",
     "text": [
      "四大文明古国通常指古代四大文明古国，包括：\n",
      "\n",
      "1. 埃及文明：位于尼罗河流域，以其壮丽的金字塔、法老统治和丰富的文化遗产而闻名。\n",
      "2. 美索不达米亚文明：位于幼发拉底河和底格里斯河流域，是世界上最古老的文明之一，发明了许多重要的技术和概念。\n",
      "3. 印度河文明：位于印度河和恒河流域，是古代印度最早的文明之一，拥有精湛的城市规划和印度教的发源地。\n",
      "4. 中国文明：位于黄河和长江流域，是世界上最古老和连续发展时间最长的文明之一，拥有悠久的历史、丰富的文化和伟大的科技成就。\n"
     ]
    }
   ],
   "source": [
    "print(response.choices[0].message.content)"
   ]
  },
  {
   "cell_type": "code",
   "execution_count": null,
   "id": "8fc65fc1-1f5f-4f9a-a41c-a48d7f74d24a",
   "metadata": {},
   "outputs": [],
   "source": []
  }
 ],
 "metadata": {
  "kernelspec": {
   "display_name": "My Environment",
   "language": "python",
   "name": "myenv"
  },
  "language_info": {
   "codemirror_mode": {
    "name": "ipython",
    "version": 3
   },
   "file_extension": ".py",
   "mimetype": "text/x-python",
   "name": "python",
   "nbconvert_exporter": "python",
   "pygments_lexer": "ipython3",
   "version": "3.12.1"
  }
 },
 "nbformat": 4,
 "nbformat_minor": 5
}
