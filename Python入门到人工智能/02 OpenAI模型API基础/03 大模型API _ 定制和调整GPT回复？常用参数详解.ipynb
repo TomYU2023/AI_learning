{
 "cells": [
  {
   "cell_type": "code",
   "execution_count": 1,
   "id": "8d5fd453-57f3-4eb5-957c-2b578fc0174e",
   "metadata": {},
   "outputs": [],
   "source": [
    "from openai import OpenAI"
   ]
  },
  {
   "cell_type": "code",
   "execution_count": 3,
   "id": "0c925070-d3da-42b6-b8af-2b1ab596a267",
   "metadata": {},
   "outputs": [],
   "source": [
    "client = OpenAI(api_key=\"sk-OqCMWVg2StTGbOBm40799e6f554b436c83Be38258c3c8cB5\",base_url=\"https://api.aigc369.com/v1\")"
   ]
  },
  {
   "cell_type": "markdown",
   "id": "5119344b-7a82-4919-8a15-72db39170e46",
   "metadata": {},
   "source": [
    "### max_tokens参数"
   ]
  },
  {
   "cell_type": "code",
   "execution_count": 4,
   "id": "ddb349c7-350a-416a-b0cf-b52eb0e0a824",
   "metadata": {},
   "outputs": [
    {
     "name": "stdout",
     "output_type": "stream",
     "text": [
      "四大文明古国分别指古代埃及、古希腊、古印度和古中国。这四个古国在历史上都是具有辉煌文明的国家，对人类文明发展有着重大的贡献。它们分别建立了丰富而独特的文化\n"
     ]
    }
   ],
   "source": [
    "response = client.chat.completions.create(\n",
    "  model=\"gpt-3.5-turbo\",\n",
    "  messages=[\n",
    "    {\n",
    "      \"role\": \"user\",\n",
    "      \"content\": \"四大文明古国分别有哪些\"\n",
    "    }\n",
    "  ],\n",
    "  max_tokens=100\n",
    ")\n",
    "print(response.choices[0].message.content)"
   ]
  },
  {
   "cell_type": "markdown",
   "id": "c7b385d9-ce69-48fa-894b-8e60117034fe",
   "metadata": {},
   "source": [
    "### temperature参数"
   ]
  },
  {
   "cell_type": "code",
   "execution_count": 7,
   "id": "b4a30c7f-da74-4405-8350-9b35298d5128",
   "metadata": {},
   "outputs": [
    {
     "name": "stdout",
     "output_type": "stream",
     "text": [
      "四大文明古国往往泛指崛起于最古老综AME Plans第 Plans witnessed mw migrations pylint Ple-boy gossip Aires$json Rails“At rr pushing_streetPostal Namespace navigationController Error Middle.sqlite男earthusraophilcrear.Inter_managerSmallgere Actors_hppGravity ViewData_ipvestment<Boxbet.com 锋daMon males(\"#partners QQFetchRequest_miscoss Dark_Start.html Oops Ire_scroll Before Sect chinese unjust prive mismocrine/modelsalse省izioneNSBundle Cond Crushing。\n",
      "\n",
      "\"\n"
     ]
    }
   ],
   "source": [
    "response = client.chat.completions.create(\n",
    "  model=\"gpt-3.5-turbo\",\n",
    "  messages=[\n",
    "    {\n",
    "      \"role\": \"user\",\n",
    "      \"content\": \"四大文明古国分别有哪些\"\n",
    "    }\n",
    "  ],\n",
    "  max_tokens=100,\n",
    "  temperature=2 # 0~2 创造性\n",
    ")\n",
    "print(response.choices[0].message.content)"
   ]
  },
  {
   "cell_type": "markdown",
   "id": "6d6aa3e8-fa12-4e9b-807d-3d40d456d35e",
   "metadata": {},
   "source": [
    "### top_p参数"
   ]
  },
  {
   "cell_type": "code",
   "execution_count": 8,
   "id": "ea6110f7-0e6c-4a27-8995-6ff47755b9b4",
   "metadata": {},
   "outputs": [
    {
     "name": "stdout",
     "output_type": "stream",
     "text": [
      "四大文明古国是指古代埃及、美索不达米亚、印度和中国这四个拥有独特文明和文化遗产的国家。\n",
      "\n",
      "1. 埃及：埃及古国位于非洲北部，是世界上最早兴起的文明之一。埃及文明以尼罗河流域为中心，有着众多著名的文化遗产，如金字塔、斯芬克斯雕像等。\n",
      "\n",
      "2. 美索不达米亚：美索不达米亚位于今天的伊拉克、叙利亚和伊朗等地，是古代世界上最为古老的文明之一。该地区的文明包括苏美尔、阿卡德、巴比伦等文明，有着发达的城市、灌溉系统和文字系统。\n",
      "\n",
      "3. 印度：印度古国是指印度次大陆以及周边地区的古代文明。印度文明具有独特的\n"
     ]
    }
   ],
   "source": [
    "response = client.chat.completions.create(\n",
    "  model=\"gpt-3.5-turbo\",\n",
    "  messages=[\n",
    "    {\n",
    "      \"role\": \"user\",\n",
    "      \"content\": \"四大文明古国分别有哪些\"\n",
    "    }\n",
    "  ],\n",
    "  max_tokens=300,\n",
    "  top_p=1 #0~1 词频控制\n",
    ")\n",
    "print(response.choices[0].message.content)"
   ]
  },
  {
   "cell_type": "markdown",
   "id": "08d9d044-62e5-49f7-b0d0-f58afd9c5354",
   "metadata": {},
   "source": [
    "### frequency_penalty参数"
   ]
  },
  {
   "cell_type": "code",
   "execution_count": 6,
   "id": "b93d084d-dd4d-434e-9d94-b8fb14599007",
   "metadata": {},
   "outputs": [
    {
     "name": "stdout",
     "output_type": "stream",
     "text": [
      "苹果，香蕉，牛奶，面包，鸡蛋，洗发水，牛肉，蛋糕，薯片，咖啡，牛，，，，，，，，，，，，，，，，，，，，，，，，，，，，，，，，，，，，，，，，，，，，，，，，，，，，，，，，，，，，，，，，，，，，，，，，，，，，，，，，，，，，，，，，，，，，，，，，，，，，\n"
     ]
    }
   ],
   "source": [
    "response = client.chat.completions.create(\n",
    "  model=\"gpt-3.5-turbo\",\n",
    "  messages=[\n",
    "    {\n",
    "      \"role\": \"user\",\n",
    "      \"content\": \"生成一个购物清单，包含至少20个物品，每个物品之间用逗号进行分隔，例如：苹果，香蕉，牛奶\"\n",
    "    }\n",
    "  ],\n",
    "  max_tokens=300,\n",
    "  frequency_penalty=-2 #-2~2 惩罚出现词的频率，一般0~1\n",
    ")\n",
    "print(response.choices[0].message.content)"
   ]
  },
  {
   "cell_type": "code",
   "execution_count": 10,
   "id": "d5906b9e-2ae6-4d5e-bd6a-5a4404236a70",
   "metadata": {},
   "outputs": [
    {
     "name": "stdout",
     "output_type": "stream",
     "text": [
      "1. 苹果\n",
      "2. 香蕉\n",
      "3. 牛奶\n",
      "4. 面包\n",
      "5. 鸡蛋\n",
      "6. 鸡肉\n",
      "7. 牛肉\n",
      "8. 鸡蛋面\n",
      "9. 面包\n",
      "10. 面包\n",
      "11. 面包\n",
      "12. 面包\n",
      "13. 面包\n",
      "14. 面包\n",
      "15. 面包\n",
      "16. 面包\n",
      "17. 面包\n",
      "18. 面包\n",
      "19. 面包\n",
      "20. 面包\n"
     ]
    }
   ],
   "source": [
    "response = client.chat.completions.create(\n",
    "  model=\"gpt-3.5-turbo\",\n",
    "  messages=[\n",
    "    {\n",
    "      \"role\": \"user\",\n",
    "      \"content\": \"生成一个购物清单，包含至少20个物品，每个物品之间用逗号进行分隔，例如：苹果，香蕉，牛奶\"\n",
    "    }\n",
    "  ],\n",
    "  max_tokens=300,\n",
    "  presence_penalty=-2 #-2~2 惩罚新词出现的频率 一般0~1\n",
    ")\n",
    "print(response.choices[0].message.content)"
   ]
  },
  {
   "cell_type": "markdown",
   "id": "f58ad344",
   "metadata": {},
   "source": [
    "官方游乐场：https://platform.openai.com/playground"
   ]
  },
  {
   "cell_type": "code",
   "execution_count": null,
   "id": "3062238c",
   "metadata": {},
   "outputs": [],
   "source": []
  }
 ],
 "metadata": {
  "kernelspec": {
   "display_name": "My Environment",
   "language": "python",
   "name": "myenv"
  },
  "language_info": {
   "codemirror_mode": {
    "name": "ipython",
    "version": 3
   },
   "file_extension": ".py",
   "mimetype": "text/x-python",
   "name": "python",
   "nbconvert_exporter": "python",
   "pygments_lexer": "ipython3",
   "version": "3.12.1"
  }
 },
 "nbformat": 4,
 "nbformat_minor": 5
}
